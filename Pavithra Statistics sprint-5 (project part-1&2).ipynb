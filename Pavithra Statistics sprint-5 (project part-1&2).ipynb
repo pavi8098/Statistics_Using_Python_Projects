{
 "cells": [
  {
   "cell_type": "code",
   "execution_count": 89,
   "id": "f0ea875a-c21d-42d4-b4f8-f196ea3dd11c",
   "metadata": {},
   "outputs": [],
   "source": [
    "import numpy as np\n",
    "import pandas as pd\n",
    "import seaborn as sns\n",
    "from matplotlib import pyplot as plt\n",
    "from scipy.stats import kurtosis\n",
    "from scipy.stats import skew\n",
    "from scipy.stats import norm\n",
    "import math\n",
    "import warnings\n",
    "warnings.filterwarnings('ignore')\n",
    "from scipy.stats import t"
   ]
  },
  {
   "cell_type": "code",
   "execution_count": 91,
   "id": "ef42db2f-0d8b-4bc0-a949-f8021cf89f9d",
   "metadata": {},
   "outputs": [
    {
     "data": {
      "text/html": [
       "<div>\n",
       "<style scoped>\n",
       "    .dataframe tbody tr th:only-of-type {\n",
       "        vertical-align: middle;\n",
       "    }\n",
       "\n",
       "    .dataframe tbody tr th {\n",
       "        vertical-align: top;\n",
       "    }\n",
       "\n",
       "    .dataframe thead th {\n",
       "        text-align: right;\n",
       "    }\n",
       "</style>\n",
       "<table border=\"1\" class=\"dataframe\">\n",
       "  <thead>\n",
       "    <tr style=\"text-align: right;\">\n",
       "      <th></th>\n",
       "      <th>index</th>\n",
       "      <th>price</th>\n",
       "      <th>speed</th>\n",
       "      <th>hd</th>\n",
       "      <th>ram</th>\n",
       "      <th>screen</th>\n",
       "      <th>cd</th>\n",
       "      <th>multi</th>\n",
       "      <th>premium</th>\n",
       "      <th>ads_2022</th>\n",
       "      <th>ads_2023</th>\n",
       "      <th>trend</th>\n",
       "    </tr>\n",
       "  </thead>\n",
       "  <tbody>\n",
       "    <tr>\n",
       "      <th>0</th>\n",
       "      <td>1</td>\n",
       "      <td>1499</td>\n",
       "      <td>25</td>\n",
       "      <td>80</td>\n",
       "      <td>4</td>\n",
       "      <td>14</td>\n",
       "      <td>no</td>\n",
       "      <td>no</td>\n",
       "      <td>yes</td>\n",
       "      <td>94</td>\n",
       "      <td>94</td>\n",
       "      <td>1</td>\n",
       "    </tr>\n",
       "    <tr>\n",
       "      <th>1</th>\n",
       "      <td>2</td>\n",
       "      <td>1795</td>\n",
       "      <td>33</td>\n",
       "      <td>85</td>\n",
       "      <td>2</td>\n",
       "      <td>14</td>\n",
       "      <td>no</td>\n",
       "      <td>no</td>\n",
       "      <td>yes</td>\n",
       "      <td>94</td>\n",
       "      <td>94</td>\n",
       "      <td>1</td>\n",
       "    </tr>\n",
       "    <tr>\n",
       "      <th>2</th>\n",
       "      <td>3</td>\n",
       "      <td>1595</td>\n",
       "      <td>25</td>\n",
       "      <td>170</td>\n",
       "      <td>4</td>\n",
       "      <td>15</td>\n",
       "      <td>no</td>\n",
       "      <td>no</td>\n",
       "      <td>yes</td>\n",
       "      <td>94</td>\n",
       "      <td>94</td>\n",
       "      <td>1</td>\n",
       "    </tr>\n",
       "    <tr>\n",
       "      <th>3</th>\n",
       "      <td>4</td>\n",
       "      <td>1849</td>\n",
       "      <td>25</td>\n",
       "      <td>170</td>\n",
       "      <td>8</td>\n",
       "      <td>14</td>\n",
       "      <td>no</td>\n",
       "      <td>no</td>\n",
       "      <td>no</td>\n",
       "      <td>94</td>\n",
       "      <td>94</td>\n",
       "      <td>1</td>\n",
       "    </tr>\n",
       "    <tr>\n",
       "      <th>4</th>\n",
       "      <td>5</td>\n",
       "      <td>3295</td>\n",
       "      <td>33</td>\n",
       "      <td>340</td>\n",
       "      <td>16</td>\n",
       "      <td>14</td>\n",
       "      <td>no</td>\n",
       "      <td>no</td>\n",
       "      <td>yes</td>\n",
       "      <td>94</td>\n",
       "      <td>104</td>\n",
       "      <td>1</td>\n",
       "    </tr>\n",
       "  </tbody>\n",
       "</table>\n",
       "</div>"
      ],
      "text/plain": [
       "   index  price  speed   hd  ram  screen  cd multi premium  ads_2022  \\\n",
       "0      1   1499     25   80    4      14  no    no     yes        94   \n",
       "1      2   1795     33   85    2      14  no    no     yes        94   \n",
       "2      3   1595     25  170    4      15  no    no     yes        94   \n",
       "3      4   1849     25  170    8      14  no    no      no        94   \n",
       "4      5   3295     33  340   16      14  no    no     yes        94   \n",
       "\n",
       "   ads_2023  trend  \n",
       "0        94      1  \n",
       "1        94      1  \n",
       "2        94      1  \n",
       "3        94      1  \n",
       "4       104      1  "
      ]
     },
     "execution_count": 91,
     "metadata": {},
     "output_type": "execute_result"
    }
   ],
   "source": [
    "df=pd.read_csv(r\"C:\\Users\\Baskar\\OneDrive\\Desktop\\Statistics using python,c8\\DS1_C8_Computers_Data_Project.csv\")\n",
    "df.head()"
   ]
  },
  {
   "cell_type": "code",
   "execution_count": 5,
   "id": "bf74e737-b675-4d4a-954c-560a3130d48b",
   "metadata": {},
   "outputs": [
    {
     "data": {
      "text/plain": [
       "index       0\n",
       "price       0\n",
       "speed       0\n",
       "hd          0\n",
       "ram         0\n",
       "screen      0\n",
       "cd          0\n",
       "multi       0\n",
       "premium     0\n",
       "ads_2022    0\n",
       "ads_2023    0\n",
       "trend       0\n",
       "dtype: int64"
      ]
     },
     "execution_count": 5,
     "metadata": {},
     "output_type": "execute_result"
    }
   ],
   "source": [
    "# Data Preprocessing:\n",
    "df.isnull().sum()"
   ]
  },
  {
   "cell_type": "code",
   "execution_count": 7,
   "id": "bf0931a1-7251-48ff-ae1c-e7b6b3d59998",
   "metadata": {},
   "outputs": [
    {
     "data": {
      "text/html": [
       "<div>\n",
       "<style scoped>\n",
       "    .dataframe tbody tr th:only-of-type {\n",
       "        vertical-align: middle;\n",
       "    }\n",
       "\n",
       "    .dataframe tbody tr th {\n",
       "        vertical-align: top;\n",
       "    }\n",
       "\n",
       "    .dataframe thead th {\n",
       "        text-align: right;\n",
       "    }\n",
       "</style>\n",
       "<table border=\"1\" class=\"dataframe\">\n",
       "  <thead>\n",
       "    <tr style=\"text-align: right;\">\n",
       "      <th></th>\n",
       "      <th>index</th>\n",
       "      <th>price</th>\n",
       "      <th>speed</th>\n",
       "      <th>hd</th>\n",
       "      <th>ram</th>\n",
       "      <th>screen</th>\n",
       "      <th>cd</th>\n",
       "      <th>multi</th>\n",
       "      <th>premium</th>\n",
       "      <th>ads_2022</th>\n",
       "      <th>ads_2023</th>\n",
       "      <th>trend</th>\n",
       "    </tr>\n",
       "  </thead>\n",
       "  <tbody>\n",
       "  </tbody>\n",
       "</table>\n",
       "</div>"
      ],
      "text/plain": [
       "Empty DataFrame\n",
       "Columns: [index, price, speed, hd, ram, screen, cd, multi, premium, ads_2022, ads_2023, trend]\n",
       "Index: []"
      ]
     },
     "execution_count": 7,
     "metadata": {},
     "output_type": "execute_result"
    }
   ],
   "source": [
    "df[df.duplicated(keep='first')]\n",
    "# Interpretation:\n",
    "# There is no null values and duplicate values."
   ]
  },
  {
   "cell_type": "code",
   "execution_count": 5,
   "id": "7259e2cb-75b6-425d-b35f-3d2a83ed4df5",
   "metadata": {},
   "outputs": [
    {
     "data": {
      "text/plain": [
       "index        int64\n",
       "price        int64\n",
       "speed        int64\n",
       "hd           int64\n",
       "ram          int64\n",
       "screen       int64\n",
       "cd          object\n",
       "multi       object\n",
       "premium     object\n",
       "ads_2022     int64\n",
       "ads_2023     int64\n",
       "trend        int64\n",
       "dtype: object"
      ]
     },
     "execution_count": 5,
     "metadata": {},
     "output_type": "execute_result"
    }
   ],
   "source": [
    "df.dtypes\n",
    "# There is no need to replace any data types."
   ]
  },
  {
   "cell_type": "markdown",
   "id": "1f40e218-7d1a-48e0-b01d-b733b7b2a446",
   "metadata": {},
   "source": [
    "# Business Objectives:\n",
    "# Enhance Product Strategy and Sales Performance through Specification-based analysis:\n",
    "# Task-1(a) Analyze purchase likelihood based on specifications:"
   ]
  },
  {
   "cell_type": "markdown",
   "id": "cb410464-fd83-48e8-a920-7c5bd0123de8",
   "metadata": {},
   "source": [
    "# What is the probability of customer purchasing computer with atleast 8GB ram,screen size 14 inch,speed exceeding 33 MHz?"
   ]
  },
  {
   "cell_type": "code",
   "execution_count": 65,
   "id": "929de03e-4e03-4e46-9401-355127820681",
   "metadata": {},
   "outputs": [
    {
     "data": {
      "text/html": [
       "<div>\n",
       "<style scoped>\n",
       "    .dataframe tbody tr th:only-of-type {\n",
       "        vertical-align: middle;\n",
       "    }\n",
       "\n",
       "    .dataframe tbody tr th {\n",
       "        vertical-align: top;\n",
       "    }\n",
       "\n",
       "    .dataframe thead th {\n",
       "        text-align: right;\n",
       "    }\n",
       "</style>\n",
       "<table border=\"1\" class=\"dataframe\">\n",
       "  <thead>\n",
       "    <tr style=\"text-align: right;\">\n",
       "      <th></th>\n",
       "      <th>ram</th>\n",
       "      <th>screen</th>\n",
       "      <th>speed</th>\n",
       "    </tr>\n",
       "  </thead>\n",
       "  <tbody>\n",
       "    <tr>\n",
       "      <th>8</th>\n",
       "      <td>8</td>\n",
       "      <td>14</td>\n",
       "      <td>50</td>\n",
       "    </tr>\n",
       "    <tr>\n",
       "      <th>11</th>\n",
       "      <td>8</td>\n",
       "      <td>14</td>\n",
       "      <td>66</td>\n",
       "    </tr>\n",
       "    <tr>\n",
       "      <th>14</th>\n",
       "      <td>8</td>\n",
       "      <td>14</td>\n",
       "      <td>50</td>\n",
       "    </tr>\n",
       "    <tr>\n",
       "      <th>19</th>\n",
       "      <td>8</td>\n",
       "      <td>14</td>\n",
       "      <td>66</td>\n",
       "    </tr>\n",
       "    <tr>\n",
       "      <th>24</th>\n",
       "      <td>8</td>\n",
       "      <td>14</td>\n",
       "      <td>50</td>\n",
       "    </tr>\n",
       "    <tr>\n",
       "      <th>...</th>\n",
       "      <td>...</td>\n",
       "      <td>...</td>\n",
       "      <td>...</td>\n",
       "    </tr>\n",
       "    <tr>\n",
       "      <th>6238</th>\n",
       "      <td>8</td>\n",
       "      <td>14</td>\n",
       "      <td>66</td>\n",
       "    </tr>\n",
       "    <tr>\n",
       "      <th>6240</th>\n",
       "      <td>8</td>\n",
       "      <td>14</td>\n",
       "      <td>100</td>\n",
       "    </tr>\n",
       "    <tr>\n",
       "      <th>6246</th>\n",
       "      <td>8</td>\n",
       "      <td>14</td>\n",
       "      <td>66</td>\n",
       "    </tr>\n",
       "    <tr>\n",
       "      <th>6247</th>\n",
       "      <td>8</td>\n",
       "      <td>14</td>\n",
       "      <td>100</td>\n",
       "    </tr>\n",
       "    <tr>\n",
       "      <th>6252</th>\n",
       "      <td>8</td>\n",
       "      <td>14</td>\n",
       "      <td>66</td>\n",
       "    </tr>\n",
       "  </tbody>\n",
       "</table>\n",
       "<p>784 rows × 3 columns</p>\n",
       "</div>"
      ],
      "text/plain": [
       "      ram  screen  speed\n",
       "8       8      14     50\n",
       "11      8      14     66\n",
       "14      8      14     50\n",
       "19      8      14     66\n",
       "24      8      14     50\n",
       "...   ...     ...    ...\n",
       "6238    8      14     66\n",
       "6240    8      14    100\n",
       "6246    8      14     66\n",
       "6247    8      14    100\n",
       "6252    8      14     66\n",
       "\n",
       "[784 rows x 3 columns]"
      ]
     },
     "execution_count": 65,
     "metadata": {},
     "output_type": "execute_result"
    }
   ],
   "source": [
    "prop=df[(df['ram']==8)&(df['screen']==14)&(df['speed']>33)][['ram','screen','speed']]\n",
    "prop"
   ]
  },
  {
   "cell_type": "code",
   "execution_count": 65,
   "id": "a98f78ee-0794-4c1d-bbe9-e7055174a92d",
   "metadata": {},
   "outputs": [
    {
     "name": "stdout",
     "output_type": "stream",
     "text": [
      "Probability of Ram: 0.12525962613836075\n",
      "Probability of Screen: 0.12525962613836075\n",
      "Probability of Speed: 0.12525962613836075\n"
     ]
    }
   ],
   "source": [
    "prop_of_ram=784/6259\n",
    "prop_of_screen=784/6259\n",
    "prop_of_speed=784/6259\n",
    "\n",
    "print(f'Probability of Ram: {prop_of_ram}\\nProbability of Screen: {prop_of_screen}\\nProbability of Speed: {prop_of_speed}')"
   ]
  },
  {
   "cell_type": "code",
   "execution_count": 84,
   "id": "72b00fc6-f7f6-42a4-bbbe-ab7c3db51f45",
   "metadata": {},
   "outputs": [
    {
     "data": {
      "text/plain": [
       "6259"
      ]
     },
     "execution_count": 84,
     "metadata": {},
     "output_type": "execute_result"
    }
   ],
   "source": [
    "df.loc[:,'ram'].count()"
   ]
  },
  {
   "cell_type": "code",
   "execution_count": 86,
   "id": "7511db43-b6ad-41ec-8786-fd1a2ba66022",
   "metadata": {},
   "outputs": [
    {
     "data": {
      "text/plain": [
       "6259"
      ]
     },
     "execution_count": 86,
     "metadata": {},
     "output_type": "execute_result"
    }
   ],
   "source": [
    "df.loc[:,'screen'].count()"
   ]
  },
  {
   "cell_type": "code",
   "execution_count": 88,
   "id": "92151f59-e721-4ce0-abfe-5dab518ac8d9",
   "metadata": {},
   "outputs": [
    {
     "data": {
      "text/plain": [
       "6259"
      ]
     },
     "execution_count": 88,
     "metadata": {},
     "output_type": "execute_result"
    }
   ],
   "source": [
    "df.loc[:,'speed'].count()"
   ]
  },
  {
   "cell_type": "code",
   "execution_count": 67,
   "id": "01c3b987-b188-4c44-bd03-f0e5b08cd5b4",
   "metadata": {},
   "outputs": [
    {
     "data": {
      "text/plain": [
       "ram       784\n",
       "screen    784\n",
       "speed     784\n",
       "dtype: int64"
      ]
     },
     "execution_count": 67,
     "metadata": {},
     "output_type": "execute_result"
    }
   ],
   "source": [
    "prop.count()"
   ]
  },
  {
   "cell_type": "markdown",
   "id": "1c42b4bb-fcbf-4efc-9686-d1d33ded630a",
   "metadata": {},
   "source": [
    "# b)Probability of Selling Premium Computers:\n",
    "# I)What is the probability of selling a premium computer?"
   ]
  },
  {
   "cell_type": "code",
   "execution_count": 104,
   "id": "f23c164d-06c0-44b6-b40f-bae3f0115cfb",
   "metadata": {},
   "outputs": [
    {
     "data": {
      "text/plain": [
       "6259"
      ]
     },
     "execution_count": 104,
     "metadata": {},
     "output_type": "execute_result"
    }
   ],
   "source": [
    "df.loc[:,'premium'].count()"
   ]
  },
  {
   "cell_type": "code",
   "execution_count": 123,
   "id": "585b4390-a6a1-4d29-b437-ea2fd5fd4438",
   "metadata": {},
   "outputs": [
    {
     "name": "stdout",
     "output_type": "stream",
     "text": [
      "0       yes\n",
      "1       yes\n",
      "2       yes\n",
      "4       yes\n",
      "5       yes\n",
      "       ... \n",
      "6254    yes\n",
      "6255    yes\n",
      "6256    yes\n",
      "6257    yes\n",
      "6258    yes\n",
      "Name: premium, Length: 5647, dtype: object\n",
      "=================================\n",
      "Count of Premium Computers (yes)= 5647\n"
     ]
    }
   ],
   "source": [
    "premium=df[df.premium=='yes']['premium']\n",
    "print(premium)\n",
    "print('=================================')\n",
    "print('Count of Premium Computers (yes)=',premium.count())"
   ]
  },
  {
   "cell_type": "code",
   "execution_count": 127,
   "id": "2183aeba-ae28-426e-a390-7e407564cdfe",
   "metadata": {},
   "outputs": [
    {
     "name": "stdout",
     "output_type": "stream",
     "text": [
      "Prop_of_premium_comp:0.9022208020450552\n"
     ]
    }
   ],
   "source": [
    "prop_of_premium_comp=5647/6259\n",
    "print(f'Prop_of_premium_comp:{prop_of_premium_comp:}')"
   ]
  },
  {
   "cell_type": "markdown",
   "id": "96178221-9624-4d13-823f-e767f5fbaa5b",
   "metadata": {},
   "source": [
    "# II) Given that the computer is premium,what is the probability that it has a CD Player?\n",
    "# Conditional Probability:"
   ]
  },
  {
   "cell_type": "code",
   "execution_count": 186,
   "id": "1cf9ca58-ec52-48a1-bc16-810bddfdc4d5",
   "metadata": {},
   "outputs": [
    {
     "name": "stdout",
     "output_type": "stream",
     "text": [
      "premium    2824\n",
      "cd         2824\n",
      "dtype: int64\n",
      "==========================\n",
      "     premium   cd\n",
      "6        yes  yes\n",
      "30       yes  yes\n",
      "63       yes  yes\n",
      "70       yes  yes\n",
      "77       yes  yes\n",
      "...      ...  ...\n",
      "6253     yes  yes\n",
      "6255     yes  yes\n",
      "6256     yes  yes\n",
      "6257     yes  yes\n",
      "6258     yes  yes\n",
      "\n",
      "[2824 rows x 2 columns]\n",
      "==========================\n",
      "Probability of Cd index       5647\n",
      "price       5647\n",
      "speed       5647\n",
      "hd          5647\n",
      "ram         5647\n",
      "screen      5647\n",
      "cd          5647\n",
      "multi       5647\n",
      "premium     5647\n",
      "ads_2022    5647\n",
      "ads_2023    5647\n",
      "trend       5647\n",
      "dtype: int64\n"
     ]
    }
   ],
   "source": [
    "premium_cd=df[(df.premium=='yes')&(df['cd']=='yes')][['premium','cd']]\n",
    "premium_cd\n",
    "print(premium_cd.count())\n",
    "\n",
    "print('==========================')\n",
    "print(premium_cd)\n",
    "\n",
    "prop_of_cd=df[df['premium']=='yes']\n",
    "print('==========================')\n",
    "print('Probability of Cd',prop_of_cd.count())"
   ]
  },
  {
   "cell_type": "code",
   "execution_count": null,
   "id": "7a576a81-ffca-4d99-bff1-a04a0bb0ef90",
   "metadata": {},
   "outputs": [],
   "source": [
    "# Conditional probability:\n",
    "Probability of A/B= P(A & B)/P(B)"
   ]
  },
  {
   "cell_type": "code",
   "execution_count": 188,
   "id": "6a10d6fe-7100-40d0-9cfe-0835a4368bff",
   "metadata": {},
   "outputs": [
    {
     "name": "stdout",
     "output_type": "stream",
     "text": [
      "Probability of Premium and CD Player= 0.5000885425889853\n"
     ]
    }
   ],
   "source": [
    "prop_premium_cd=2824/5647\n",
    "print('Probability of Premium and CD Player=',prop_premium_cd)"
   ]
  },
  {
   "cell_type": "markdown",
   "id": "697c4f92-2c70-4e50-af9c-98238e7ff641",
   "metadata": {},
   "source": [
    "# C)Predicting the probability of certain specifications:\n",
    "# I) What is the probability of a computer having a screen size greater than 15 inches and being premium?\n",
    "# Probability of two different events:(Join probability):"
   ]
  },
  {
   "cell_type": "code",
   "execution_count": 226,
   "id": "fbfb6f9a-a995-4874-9da1-ac4c05140d06",
   "metadata": {},
   "outputs": [
    {
     "name": "stdout",
     "output_type": "stream",
     "text": [
      "Count of Screen and Premium= screen     530\n",
      "premium    530\n",
      "dtype: int64\n",
      "Probability of Screen and Premium=0.08467806358843266\n"
     ]
    }
   ],
   "source": [
    "screen_premium=df[(df['screen']>15)&(df['premium']=='yes')][['screen','premium']]\n",
    "print('Count of Screen and Premium=',screen_premium.count())\n",
    "\n",
    "prob_of_screen_pre=530/6259  #(count of both screen and premium/total sample)\n",
    "print('Probability of Screen and Premium={}'.format(prob_of_screen_pre))"
   ]
  },
  {
   "cell_type": "markdown",
   "id": "fdf7f4df-2617-4dec-b54b-a6e80e7a550a",
   "metadata": {},
   "source": [
    "# II) Given that the computer is not premium,what is the probability that it has screen size less than or equal to 14 inches:\n",
    "# Conditional Probability:"
   ]
  },
  {
   "cell_type": "code",
   "execution_count": 242,
   "id": "b9caf6d8-5d29-4065-b2a0-81ea69e9b623",
   "metadata": {},
   "outputs": [
    {
     "data": {
      "text/plain": [
       "premium\n",
       "yes    5647\n",
       "no      612\n",
       "Name: count, dtype: int64"
      ]
     },
     "execution_count": 242,
     "metadata": {},
     "output_type": "execute_result"
    }
   ],
   "source": [
    "df.premium.value_counts()"
   ]
  },
  {
   "cell_type": "code",
   "execution_count": null,
   "id": "078207bb-de52-49c9-8095-ddf6da2bb2c2",
   "metadata": {},
   "outputs": [],
   "source": [
    "# Conditional probability:\n",
    "Probability of A/B= P(A & B)/P(B)"
   ]
  },
  {
   "cell_type": "code",
   "execution_count": 232,
   "id": "419ed416-bf21-44ab-8b07-caa7b8652cd2",
   "metadata": {},
   "outputs": [
    {
     "name": "stdout",
     "output_type": "stream",
     "text": [
      "screen     536\n",
      "premium    536\n",
      "dtype: int64\n",
      "Probability of A/B= P(A & B)/P(B)= 0.8758169934640523\n"
     ]
    }
   ],
   "source": [
    "screen_premium_condi=df[(df['screen']<=15)&(df['premium']=='no')][['screen','premium']]\n",
    "print(screen_premium_condi.count())\n",
    "\n",
    "print('Probability of A/B= P(A & B)/P(B)=',536/612)"
   ]
  },
  {
   "cell_type": "markdown",
   "id": "9e16a410-9d6d-4453-a66d-5e7d23a02974",
   "metadata": {},
   "source": [
    "# d) Liklihood of computers having both a CD player and multimedia kit:\n",
    "# I)What is the joint probability of computers having both a CD player and multimedia kit:"
   ]
  },
  {
   "cell_type": "code",
   "execution_count": 247,
   "id": "ac128eb1-d101-4ebe-a812-8d199b4407e2",
   "metadata": {},
   "outputs": [
    {
     "data": {
      "text/html": [
       "<div>\n",
       "<style scoped>\n",
       "    .dataframe tbody tr th:only-of-type {\n",
       "        vertical-align: middle;\n",
       "    }\n",
       "\n",
       "    .dataframe tbody tr th {\n",
       "        vertical-align: top;\n",
       "    }\n",
       "\n",
       "    .dataframe thead th {\n",
       "        text-align: right;\n",
       "    }\n",
       "</style>\n",
       "<table border=\"1\" class=\"dataframe\">\n",
       "  <thead>\n",
       "    <tr style=\"text-align: right;\">\n",
       "      <th></th>\n",
       "      <th>cd</th>\n",
       "      <th>multi</th>\n",
       "    </tr>\n",
       "  </thead>\n",
       "  <tbody>\n",
       "    <tr>\n",
       "      <th>744</th>\n",
       "      <td>yes</td>\n",
       "      <td>yes</td>\n",
       "    </tr>\n",
       "    <tr>\n",
       "      <th>760</th>\n",
       "      <td>yes</td>\n",
       "      <td>yes</td>\n",
       "    </tr>\n",
       "    <tr>\n",
       "      <th>780</th>\n",
       "      <td>yes</td>\n",
       "      <td>yes</td>\n",
       "    </tr>\n",
       "    <tr>\n",
       "      <th>792</th>\n",
       "      <td>yes</td>\n",
       "      <td>yes</td>\n",
       "    </tr>\n",
       "    <tr>\n",
       "      <th>802</th>\n",
       "      <td>yes</td>\n",
       "      <td>yes</td>\n",
       "    </tr>\n",
       "    <tr>\n",
       "      <th>...</th>\n",
       "      <td>...</td>\n",
       "      <td>...</td>\n",
       "    </tr>\n",
       "    <tr>\n",
       "      <th>6226</th>\n",
       "      <td>yes</td>\n",
       "      <td>yes</td>\n",
       "    </tr>\n",
       "    <tr>\n",
       "      <th>6228</th>\n",
       "      <td>yes</td>\n",
       "      <td>yes</td>\n",
       "    </tr>\n",
       "    <tr>\n",
       "      <th>6242</th>\n",
       "      <td>yes</td>\n",
       "      <td>yes</td>\n",
       "    </tr>\n",
       "    <tr>\n",
       "      <th>6248</th>\n",
       "      <td>yes</td>\n",
       "      <td>yes</td>\n",
       "    </tr>\n",
       "    <tr>\n",
       "      <th>6255</th>\n",
       "      <td>yes</td>\n",
       "      <td>yes</td>\n",
       "    </tr>\n",
       "  </tbody>\n",
       "</table>\n",
       "<p>873 rows × 2 columns</p>\n",
       "</div>"
      ],
      "text/plain": [
       "       cd multi\n",
       "744   yes   yes\n",
       "760   yes   yes\n",
       "780   yes   yes\n",
       "792   yes   yes\n",
       "802   yes   yes\n",
       "...   ...   ...\n",
       "6226  yes   yes\n",
       "6228  yes   yes\n",
       "6242  yes   yes\n",
       "6248  yes   yes\n",
       "6255  yes   yes\n",
       "\n",
       "[873 rows x 2 columns]"
      ]
     },
     "execution_count": 247,
     "metadata": {},
     "output_type": "execute_result"
    }
   ],
   "source": [
    "cd_multi=df[(df['cd']=='yes')&(df['multi']=='yes')][['cd','multi']]\n",
    "cd_multi"
   ]
  },
  {
   "cell_type": "code",
   "execution_count": 249,
   "id": "ba212cba-f56d-4861-8c34-9140e445c7aa",
   "metadata": {},
   "outputs": [
    {
     "data": {
      "text/plain": [
       "cd   multi\n",
       "yes  yes      873\n",
       "Name: count, dtype: int64"
      ]
     },
     "execution_count": 249,
     "metadata": {},
     "output_type": "execute_result"
    }
   ],
   "source": [
    "cd_multi.value_counts()"
   ]
  },
  {
   "cell_type": "code",
   "execution_count": null,
   "id": "de33d188-df1d-406c-9c1a-e23a309d4515",
   "metadata": {},
   "outputs": [],
   "source": [
    "# Join probability:\n",
    "P(A&B)=P(A)*P(A)"
   ]
  },
  {
   "cell_type": "code",
   "execution_count": 270,
   "id": "f1feff15-e223-49ee-bfad-f15990e7888a",
   "metadata": {},
   "outputs": [
    {
     "data": {
      "text/plain": [
       "1746"
      ]
     },
     "execution_count": 270,
     "metadata": {},
     "output_type": "execute_result"
    }
   ],
   "source": [
    "prop_b=873+873\n",
    "prop_b"
   ]
  },
  {
   "cell_type": "code",
   "execution_count": 268,
   "id": "b6a83f4d-7b77-4ae4-9999-e17ef180309e",
   "metadata": {},
   "outputs": [
    {
     "data": {
      "text/plain": [
       "0.5"
      ]
     },
     "execution_count": 268,
     "metadata": {},
     "output_type": "execute_result"
    }
   ],
   "source": [
    "join_prob=873/1746\n",
    "join_prob"
   ]
  },
  {
   "cell_type": "markdown",
   "id": "8fbf32d6-21e5-46d3-bdde-f2b8a62af5dd",
   "metadata": {},
   "source": [
    "# II) Given that a computer has a CD player,what is the probability that it also has a multikit:"
   ]
  },
  {
   "cell_type": "code",
   "execution_count": null,
   "id": "cf9245ab-9487-4f10-b4a5-b688280a9132",
   "metadata": {},
   "outputs": [],
   "source": [
    "# Conditional probability:\n",
    "Probability of A/B= P(A & B)/P(B)"
   ]
  },
  {
   "cell_type": "code",
   "execution_count": 273,
   "id": "93a0f7d3-0464-423c-9f2c-83a94495ec99",
   "metadata": {},
   "outputs": [
    {
     "data": {
      "text/html": [
       "<div>\n",
       "<style scoped>\n",
       "    .dataframe tbody tr th:only-of-type {\n",
       "        vertical-align: middle;\n",
       "    }\n",
       "\n",
       "    .dataframe tbody tr th {\n",
       "        vertical-align: top;\n",
       "    }\n",
       "\n",
       "    .dataframe thead th {\n",
       "        text-align: right;\n",
       "    }\n",
       "</style>\n",
       "<table border=\"1\" class=\"dataframe\">\n",
       "  <thead>\n",
       "    <tr style=\"text-align: right;\">\n",
       "      <th></th>\n",
       "      <th>cd</th>\n",
       "      <th>multi</th>\n",
       "    </tr>\n",
       "  </thead>\n",
       "  <tbody>\n",
       "    <tr>\n",
       "      <th>744</th>\n",
       "      <td>yes</td>\n",
       "      <td>yes</td>\n",
       "    </tr>\n",
       "    <tr>\n",
       "      <th>760</th>\n",
       "      <td>yes</td>\n",
       "      <td>yes</td>\n",
       "    </tr>\n",
       "    <tr>\n",
       "      <th>780</th>\n",
       "      <td>yes</td>\n",
       "      <td>yes</td>\n",
       "    </tr>\n",
       "    <tr>\n",
       "      <th>792</th>\n",
       "      <td>yes</td>\n",
       "      <td>yes</td>\n",
       "    </tr>\n",
       "    <tr>\n",
       "      <th>802</th>\n",
       "      <td>yes</td>\n",
       "      <td>yes</td>\n",
       "    </tr>\n",
       "    <tr>\n",
       "      <th>...</th>\n",
       "      <td>...</td>\n",
       "      <td>...</td>\n",
       "    </tr>\n",
       "    <tr>\n",
       "      <th>6226</th>\n",
       "      <td>yes</td>\n",
       "      <td>yes</td>\n",
       "    </tr>\n",
       "    <tr>\n",
       "      <th>6228</th>\n",
       "      <td>yes</td>\n",
       "      <td>yes</td>\n",
       "    </tr>\n",
       "    <tr>\n",
       "      <th>6242</th>\n",
       "      <td>yes</td>\n",
       "      <td>yes</td>\n",
       "    </tr>\n",
       "    <tr>\n",
       "      <th>6248</th>\n",
       "      <td>yes</td>\n",
       "      <td>yes</td>\n",
       "    </tr>\n",
       "    <tr>\n",
       "      <th>6255</th>\n",
       "      <td>yes</td>\n",
       "      <td>yes</td>\n",
       "    </tr>\n",
       "  </tbody>\n",
       "</table>\n",
       "<p>873 rows × 2 columns</p>\n",
       "</div>"
      ],
      "text/plain": [
       "       cd multi\n",
       "744   yes   yes\n",
       "760   yes   yes\n",
       "780   yes   yes\n",
       "792   yes   yes\n",
       "802   yes   yes\n",
       "...   ...   ...\n",
       "6226  yes   yes\n",
       "6228  yes   yes\n",
       "6242  yes   yes\n",
       "6248  yes   yes\n",
       "6255  yes   yes\n",
       "\n",
       "[873 rows x 2 columns]"
      ]
     },
     "execution_count": 273,
     "metadata": {},
     "output_type": "execute_result"
    }
   ],
   "source": [
    "cd_multi_cond=df[(df['cd']=='yes')&(df['multi']=='yes')][['cd','multi']]\n",
    "cd_multi_cond"
   ]
  },
  {
   "cell_type": "code",
   "execution_count": 287,
   "id": "988bf718-9a3f-43ac-8f31-ff039fc98e4d",
   "metadata": {},
   "outputs": [
    {
     "data": {
      "text/plain": [
       "2908"
      ]
     },
     "execution_count": 287,
     "metadata": {},
     "output_type": "execute_result"
    }
   ],
   "source": [
    "cd=df[df['cd']=='yes'].value_counts()\n",
    "cd.count()"
   ]
  },
  {
   "cell_type": "code",
   "execution_count": 275,
   "id": "5700f8e4-a2b1-4f38-88ae-275cacb6fa51",
   "metadata": {},
   "outputs": [
    {
     "data": {
      "text/plain": [
       "cd   multi\n",
       "yes  yes      873\n",
       "Name: count, dtype: int64"
      ]
     },
     "execution_count": 275,
     "metadata": {},
     "output_type": "execute_result"
    }
   ],
   "source": [
    "cd_multi_cond.value_counts()"
   ]
  },
  {
   "cell_type": "code",
   "execution_count": 289,
   "id": "e95d13df-e6ca-4670-96e9-2a01cb869ac1",
   "metadata": {},
   "outputs": [
    {
     "name": "stdout",
     "output_type": "stream",
     "text": [
      "Probabiliyt of CD player and multimedia kit= 0.3002063273727648\n"
     ]
    }
   ],
   "source": [
    "prop_cd_multi=873/2908\n",
    "print('Probabiliyt of CD player and multimedia kit=',prop_cd_multi)"
   ]
  },
  {
   "cell_type": "markdown",
   "id": "faf3ba23-d029-45e5-8e31-f448a5da1cbb",
   "metadata": {},
   "source": [
    "# Business Objective:2\n",
    "# Assessing Price Disparities between Premium and Non-Premium Computers as compared to prices of both categories together:"
   ]
  },
  {
   "cell_type": "markdown",
   "id": "b03af72c-e6e7-4450-b5a1-11ce00f16192",
   "metadata": {},
   "source": [
    "# Task-2\n",
    "# a)What is the average price of computers in the population /whole data:"
   ]
  },
  {
   "cell_type": "code",
   "execution_count": 301,
   "id": "aac40348-2daa-4eb7-a933-d6d993fd4bc0",
   "metadata": {},
   "outputs": [
    {
     "name": "stdout",
     "output_type": "stream",
     "text": [
      "Average Price of Computer= 2219.576609682058\n"
     ]
    }
   ],
   "source": [
    "price=df['price']\n",
    "avg_price=np.mean(price)\n",
    "print('Average Price of Computer=',avg_price)"
   ]
  },
  {
   "cell_type": "markdown",
   "id": "6eeec57b-0ab5-4cfa-b042-e079399df62b",
   "metadata": {},
   "source": [
    "# b) What does the average price of samples vary when data is sampled using different sampling technique:"
   ]
  },
  {
   "cell_type": "code",
   "execution_count": 313,
   "id": "307c5374-4ab5-42f9-9cc5-564a07882380",
   "metadata": {},
   "outputs": [
    {
     "name": "stdout",
     "output_type": "stream",
     "text": [
      "Random of 20 samples=2465.05\n"
     ]
    }
   ],
   "source": [
    "# Random Sampling:\n",
    "sam1=df['price'].sample(n=20,random_state=1)\n",
    "sam1_avg_price=np.mean(sam1)\n",
    "print(f'Random of 20 samples={sam1_avg_price}')"
   ]
  },
  {
   "cell_type": "code",
   "execution_count": 317,
   "id": "034eba55-b945-4ea8-8643-61d47c66c6e1",
   "metadata": {},
   "outputs": [
    {
     "name": "stdout",
     "output_type": "stream",
     "text": [
      "Systematic Sampling= 2226.5103833865815\n"
     ]
    }
   ],
   "source": [
    "# Systematic Sampling:\n",
    "sam2=df['price'][::5]\n",
    "sam2_avg_price=np.mean(sam2)\n",
    "print('Systematic Sampling=',sam2_avg_price)"
   ]
  },
  {
   "cell_type": "code",
   "execution_count": 333,
   "id": "5cb646b9-d706-4656-b9e9-c883c1233fbc",
   "metadata": {},
   "outputs": [
    {
     "data": {
      "text/html": [
       "<div>\n",
       "<style scoped>\n",
       "    .dataframe tbody tr th:only-of-type {\n",
       "        vertical-align: middle;\n",
       "    }\n",
       "\n",
       "    .dataframe tbody tr th {\n",
       "        vertical-align: top;\n",
       "    }\n",
       "\n",
       "    .dataframe thead th {\n",
       "        text-align: right;\n",
       "    }\n",
       "</style>\n",
       "<table border=\"1\" class=\"dataframe\">\n",
       "  <thead>\n",
       "    <tr style=\"text-align: right;\">\n",
       "      <th></th>\n",
       "      <th>index</th>\n",
       "      <th>price</th>\n",
       "      <th>speed</th>\n",
       "      <th>hd</th>\n",
       "      <th>ram</th>\n",
       "      <th>screen</th>\n",
       "      <th>cd</th>\n",
       "      <th>multi</th>\n",
       "      <th>premium</th>\n",
       "      <th>ads_2022</th>\n",
       "      <th>ads_2023</th>\n",
       "      <th>trend</th>\n",
       "    </tr>\n",
       "  </thead>\n",
       "  <tbody>\n",
       "    <tr>\n",
       "      <th>0</th>\n",
       "      <td>3376</td>\n",
       "      <td>1625</td>\n",
       "      <td>33</td>\n",
       "      <td>240</td>\n",
       "      <td>4</td>\n",
       "      <td>14</td>\n",
       "      <td>no</td>\n",
       "      <td>no</td>\n",
       "      <td>no</td>\n",
       "      <td>307</td>\n",
       "      <td>307</td>\n",
       "      <td>16</td>\n",
       "    </tr>\n",
       "    <tr>\n",
       "      <th>1</th>\n",
       "      <td>3721</td>\n",
       "      <td>2319</td>\n",
       "      <td>33</td>\n",
       "      <td>340</td>\n",
       "      <td>4</td>\n",
       "      <td>14</td>\n",
       "      <td>no</td>\n",
       "      <td>no</td>\n",
       "      <td>no</td>\n",
       "      <td>339</td>\n",
       "      <td>339</td>\n",
       "      <td>17</td>\n",
       "    </tr>\n",
       "    <tr>\n",
       "      <th>2</th>\n",
       "      <td>4106</td>\n",
       "      <td>2109</td>\n",
       "      <td>33</td>\n",
       "      <td>270</td>\n",
       "      <td>4</td>\n",
       "      <td>14</td>\n",
       "      <td>no</td>\n",
       "      <td>no</td>\n",
       "      <td>no</td>\n",
       "      <td>225</td>\n",
       "      <td>225</td>\n",
       "      <td>19</td>\n",
       "    </tr>\n",
       "    <tr>\n",
       "      <th>3</th>\n",
       "      <td>1517</td>\n",
       "      <td>3904</td>\n",
       "      <td>66</td>\n",
       "      <td>527</td>\n",
       "      <td>8</td>\n",
       "      <td>15</td>\n",
       "      <td>yes</td>\n",
       "      <td>no</td>\n",
       "      <td>no</td>\n",
       "      <td>283</td>\n",
       "      <td>283</td>\n",
       "      <td>10</td>\n",
       "    </tr>\n",
       "    <tr>\n",
       "      <th>4</th>\n",
       "      <td>1746</td>\n",
       "      <td>2359</td>\n",
       "      <td>33</td>\n",
       "      <td>245</td>\n",
       "      <td>8</td>\n",
       "      <td>14</td>\n",
       "      <td>no</td>\n",
       "      <td>no</td>\n",
       "      <td>no</td>\n",
       "      <td>283</td>\n",
       "      <td>283</td>\n",
       "      <td>10</td>\n",
       "    </tr>\n",
       "    <tr>\n",
       "      <th>...</th>\n",
       "      <td>...</td>\n",
       "      <td>...</td>\n",
       "      <td>...</td>\n",
       "      <td>...</td>\n",
       "      <td>...</td>\n",
       "      <td>...</td>\n",
       "      <td>...</td>\n",
       "      <td>...</td>\n",
       "      <td>...</td>\n",
       "      <td>...</td>\n",
       "      <td>...</td>\n",
       "      <td>...</td>\n",
       "    </tr>\n",
       "    <tr>\n",
       "      <th>95</th>\n",
       "      <td>237</td>\n",
       "      <td>1595</td>\n",
       "      <td>25</td>\n",
       "      <td>170</td>\n",
       "      <td>4</td>\n",
       "      <td>15</td>\n",
       "      <td>no</td>\n",
       "      <td>no</td>\n",
       "      <td>yes</td>\n",
       "      <td>100</td>\n",
       "      <td>100</td>\n",
       "      <td>3</td>\n",
       "    </tr>\n",
       "    <tr>\n",
       "      <th>96</th>\n",
       "      <td>4655</td>\n",
       "      <td>1994</td>\n",
       "      <td>50</td>\n",
       "      <td>214</td>\n",
       "      <td>4</td>\n",
       "      <td>14</td>\n",
       "      <td>no</td>\n",
       "      <td>no</td>\n",
       "      <td>yes</td>\n",
       "      <td>205</td>\n",
       "      <td>205</td>\n",
       "      <td>21</td>\n",
       "    </tr>\n",
       "    <tr>\n",
       "      <th>97</th>\n",
       "      <td>1631</td>\n",
       "      <td>2149</td>\n",
       "      <td>66</td>\n",
       "      <td>340</td>\n",
       "      <td>4</td>\n",
       "      <td>14</td>\n",
       "      <td>no</td>\n",
       "      <td>no</td>\n",
       "      <td>yes</td>\n",
       "      <td>283</td>\n",
       "      <td>283</td>\n",
       "      <td>10</td>\n",
       "    </tr>\n",
       "    <tr>\n",
       "      <th>98</th>\n",
       "      <td>2883</td>\n",
       "      <td>2499</td>\n",
       "      <td>66</td>\n",
       "      <td>545</td>\n",
       "      <td>8</td>\n",
       "      <td>15</td>\n",
       "      <td>yes</td>\n",
       "      <td>no</td>\n",
       "      <td>yes</td>\n",
       "      <td>267</td>\n",
       "      <td>267</td>\n",
       "      <td>15</td>\n",
       "    </tr>\n",
       "    <tr>\n",
       "      <th>99</th>\n",
       "      <td>4322</td>\n",
       "      <td>3140</td>\n",
       "      <td>66</td>\n",
       "      <td>1000</td>\n",
       "      <td>24</td>\n",
       "      <td>14</td>\n",
       "      <td>yes</td>\n",
       "      <td>no</td>\n",
       "      <td>yes</td>\n",
       "      <td>248</td>\n",
       "      <td>248</td>\n",
       "      <td>20</td>\n",
       "    </tr>\n",
       "  </tbody>\n",
       "</table>\n",
       "<p>100 rows × 12 columns</p>\n",
       "</div>"
      ],
      "text/plain": [
       "    index  price  speed    hd  ram  screen   cd multi premium  ads_2022  \\\n",
       "0    3376   1625     33   240    4      14   no    no      no       307   \n",
       "1    3721   2319     33   340    4      14   no    no      no       339   \n",
       "2    4106   2109     33   270    4      14   no    no      no       225   \n",
       "3    1517   3904     66   527    8      15  yes    no      no       283   \n",
       "4    1746   2359     33   245    8      14   no    no      no       283   \n",
       "..    ...    ...    ...   ...  ...     ...  ...   ...     ...       ...   \n",
       "95    237   1595     25   170    4      15   no    no     yes       100   \n",
       "96   4655   1994     50   214    4      14   no    no     yes       205   \n",
       "97   1631   2149     66   340    4      14   no    no     yes       283   \n",
       "98   2883   2499     66   545    8      15  yes    no     yes       267   \n",
       "99   4322   3140     66  1000   24      14  yes    no     yes       248   \n",
       "\n",
       "    ads_2023  trend  \n",
       "0        307     16  \n",
       "1        339     17  \n",
       "2        225     19  \n",
       "3        283     10  \n",
       "4        283     10  \n",
       "..       ...    ...  \n",
       "95       100      3  \n",
       "96       205     21  \n",
       "97       283     10  \n",
       "98       267     15  \n",
       "99       248     20  \n",
       "\n",
       "[100 rows x 12 columns]"
      ]
     },
     "execution_count": 333,
     "metadata": {},
     "output_type": "execute_result"
    }
   ],
   "source": [
    "# Stratified Sampling:\n",
    "grp=df.groupby('premium')\n",
    "grp_name=df['premium'].unique()\n",
    "df1=pd.DataFrame()\n",
    "for i in grp_name:\n",
    "    d_data=grp.get_group(i)\n",
    "    sam_data=d_data.sample(50,random_state=2)\n",
    "    df1=pd.concat([sam_data,df1])\n",
    "\n",
    "df1.reset_index(drop=True,inplace=True)\n",
    "df1"
   ]
  },
  {
   "cell_type": "code",
   "execution_count": 19,
   "id": "aa865c52-59f7-4573-8a37-a7412ffce81a",
   "metadata": {},
   "outputs": [
    {
     "data": {
      "text/html": [
       "<div>\n",
       "<style scoped>\n",
       "    .dataframe tbody tr th:only-of-type {\n",
       "        vertical-align: middle;\n",
       "    }\n",
       "\n",
       "    .dataframe tbody tr th {\n",
       "        vertical-align: top;\n",
       "    }\n",
       "\n",
       "    .dataframe thead th {\n",
       "        text-align: right;\n",
       "    }\n",
       "</style>\n",
       "<table border=\"1\" class=\"dataframe\">\n",
       "  <thead>\n",
       "    <tr style=\"text-align: right;\">\n",
       "      <th></th>\n",
       "      <th>index</th>\n",
       "      <th>price</th>\n",
       "      <th>speed</th>\n",
       "      <th>hd</th>\n",
       "      <th>ram</th>\n",
       "      <th>screen</th>\n",
       "      <th>cd</th>\n",
       "      <th>multi</th>\n",
       "      <th>premium</th>\n",
       "      <th>ads_2022</th>\n",
       "      <th>ads_2023</th>\n",
       "      <th>trend</th>\n",
       "    </tr>\n",
       "  </thead>\n",
       "  <tbody>\n",
       "    <tr>\n",
       "      <th>0</th>\n",
       "      <td>3054</td>\n",
       "      <td>1990</td>\n",
       "      <td>25</td>\n",
       "      <td>426</td>\n",
       "      <td>8</td>\n",
       "      <td>14</td>\n",
       "      <td>yes</td>\n",
       "      <td>no</td>\n",
       "      <td>yes</td>\n",
       "      <td>267</td>\n",
       "      <td>267</td>\n",
       "      <td>15</td>\n",
       "    </tr>\n",
       "    <tr>\n",
       "      <th>1</th>\n",
       "      <td>6009</td>\n",
       "      <td>2540</td>\n",
       "      <td>100</td>\n",
       "      <td>1000</td>\n",
       "      <td>16</td>\n",
       "      <td>17</td>\n",
       "      <td>yes</td>\n",
       "      <td>no</td>\n",
       "      <td>yes</td>\n",
       "      <td>75</td>\n",
       "      <td>100</td>\n",
       "      <td>30</td>\n",
       "    </tr>\n",
       "    <tr>\n",
       "      <th>2</th>\n",
       "      <td>4835</td>\n",
       "      <td>3054</td>\n",
       "      <td>33</td>\n",
       "      <td>1000</td>\n",
       "      <td>24</td>\n",
       "      <td>15</td>\n",
       "      <td>yes</td>\n",
       "      <td>no</td>\n",
       "      <td>yes</td>\n",
       "      <td>162</td>\n",
       "      <td>162</td>\n",
       "      <td>22</td>\n",
       "    </tr>\n",
       "    <tr>\n",
       "      <th>3</th>\n",
       "      <td>2253</td>\n",
       "      <td>2890</td>\n",
       "      <td>25</td>\n",
       "      <td>528</td>\n",
       "      <td>16</td>\n",
       "      <td>14</td>\n",
       "      <td>yes</td>\n",
       "      <td>yes</td>\n",
       "      <td>yes</td>\n",
       "      <td>275</td>\n",
       "      <td>275</td>\n",
       "      <td>12</td>\n",
       "    </tr>\n",
       "    <tr>\n",
       "      <th>4</th>\n",
       "      <td>6219</td>\n",
       "      <td>2785</td>\n",
       "      <td>66</td>\n",
       "      <td>1600</td>\n",
       "      <td>24</td>\n",
       "      <td>15</td>\n",
       "      <td>yes</td>\n",
       "      <td>no</td>\n",
       "      <td>yes</td>\n",
       "      <td>39</td>\n",
       "      <td>39</td>\n",
       "      <td>34</td>\n",
       "    </tr>\n",
       "    <tr>\n",
       "      <th>...</th>\n",
       "      <td>...</td>\n",
       "      <td>...</td>\n",
       "      <td>...</td>\n",
       "      <td>...</td>\n",
       "      <td>...</td>\n",
       "      <td>...</td>\n",
       "      <td>...</td>\n",
       "      <td>...</td>\n",
       "      <td>...</td>\n",
       "      <td>...</td>\n",
       "      <td>...</td>\n",
       "      <td>...</td>\n",
       "    </tr>\n",
       "    <tr>\n",
       "      <th>1124</th>\n",
       "      <td>4095</td>\n",
       "      <td>2899</td>\n",
       "      <td>66</td>\n",
       "      <td>527</td>\n",
       "      <td>16</td>\n",
       "      <td>15</td>\n",
       "      <td>yes</td>\n",
       "      <td>no</td>\n",
       "      <td>yes</td>\n",
       "      <td>225</td>\n",
       "      <td>225</td>\n",
       "      <td>19</td>\n",
       "    </tr>\n",
       "    <tr>\n",
       "      <th>1125</th>\n",
       "      <td>6103</td>\n",
       "      <td>1690</td>\n",
       "      <td>66</td>\n",
       "      <td>850</td>\n",
       "      <td>8</td>\n",
       "      <td>15</td>\n",
       "      <td>yes</td>\n",
       "      <td>no</td>\n",
       "      <td>yes</td>\n",
       "      <td>51</td>\n",
       "      <td>51</td>\n",
       "      <td>32</td>\n",
       "    </tr>\n",
       "    <tr>\n",
       "      <th>1126</th>\n",
       "      <td>1719</td>\n",
       "      <td>2095</td>\n",
       "      <td>33</td>\n",
       "      <td>250</td>\n",
       "      <td>4</td>\n",
       "      <td>15</td>\n",
       "      <td>yes</td>\n",
       "      <td>no</td>\n",
       "      <td>yes</td>\n",
       "      <td>283</td>\n",
       "      <td>283</td>\n",
       "      <td>10</td>\n",
       "    </tr>\n",
       "    <tr>\n",
       "      <th>1127</th>\n",
       "      <td>306</td>\n",
       "      <td>1499</td>\n",
       "      <td>25</td>\n",
       "      <td>170</td>\n",
       "      <td>4</td>\n",
       "      <td>14</td>\n",
       "      <td>no</td>\n",
       "      <td>no</td>\n",
       "      <td>yes</td>\n",
       "      <td>108</td>\n",
       "      <td>108</td>\n",
       "      <td>4</td>\n",
       "    </tr>\n",
       "    <tr>\n",
       "      <th>1128</th>\n",
       "      <td>2193</td>\n",
       "      <td>2427</td>\n",
       "      <td>50</td>\n",
       "      <td>424</td>\n",
       "      <td>8</td>\n",
       "      <td>15</td>\n",
       "      <td>yes</td>\n",
       "      <td>yes</td>\n",
       "      <td>yes</td>\n",
       "      <td>275</td>\n",
       "      <td>275</td>\n",
       "      <td>12</td>\n",
       "    </tr>\n",
       "  </tbody>\n",
       "</table>\n",
       "<p>1129 rows × 12 columns</p>\n",
       "</div>"
      ],
      "text/plain": [
       "      index  price  speed    hd  ram  screen   cd multi premium  ads_2022  \\\n",
       "0      3054   1990     25   426    8      14  yes    no     yes       267   \n",
       "1      6009   2540    100  1000   16      17  yes    no     yes        75   \n",
       "2      4835   3054     33  1000   24      15  yes    no     yes       162   \n",
       "3      2253   2890     25   528   16      14  yes   yes     yes       275   \n",
       "4      6219   2785     66  1600   24      15  yes    no     yes        39   \n",
       "...     ...    ...    ...   ...  ...     ...  ...   ...     ...       ...   \n",
       "1124   4095   2899     66   527   16      15  yes    no     yes       225   \n",
       "1125   6103   1690     66   850    8      15  yes    no     yes        51   \n",
       "1126   1719   2095     33   250    4      15  yes    no     yes       283   \n",
       "1127    306   1499     25   170    4      14   no    no     yes       108   \n",
       "1128   2193   2427     50   424    8      15  yes   yes     yes       275   \n",
       "\n",
       "      ads_2023  trend  \n",
       "0          267     15  \n",
       "1          100     30  \n",
       "2          162     22  \n",
       "3          275     12  \n",
       "4           39     34  \n",
       "...        ...    ...  \n",
       "1124       225     19  \n",
       "1125        51     32  \n",
       "1126       283     10  \n",
       "1127       108      4  \n",
       "1128       275     12  \n",
       "\n",
       "[1129 rows x 12 columns]"
      ]
     },
     "execution_count": 19,
     "metadata": {},
     "output_type": "execute_result"
    }
   ],
   "source": [
    "# Clustered Sampling:\n",
    "grp=df.groupby('premium')\n",
    "grp_name=['yes']\n",
    "df2=pd.DataFrame()\n",
    "for i in grp_name:\n",
    "    d_data=grp.get_group(i)\n",
    "    sam_data=d_data.sample(frac=.20)\n",
    "    df2=pd.concat([sam_data,df2])\n",
    "\n",
    "df2.reset_index(drop=True,inplace=True)\n",
    "df2"
   ]
  },
  {
   "cell_type": "markdown",
   "id": "a1078788-eaeb-4e86-9681-a7cd0947bb6d",
   "metadata": {},
   "source": [
    "# c) What is the average price of premium and non-premium computers in the whole data?How does the average price differ\n",
    "# between premium and non-premium computers of sampled data using simple random sampling without replacement:"
   ]
  },
  {
   "cell_type": "code",
   "execution_count": 27,
   "id": "fd4789db-66a4-493d-8733-d3d351c07eba",
   "metadata": {},
   "outputs": [
    {
     "data": {
      "text/plain": [
       "premium\n",
       "no     2361.934641\n",
       "yes    2204.148397\n",
       "Name: price, dtype: float64"
      ]
     },
     "execution_count": 27,
     "metadata": {},
     "output_type": "execute_result"
    }
   ],
   "source": [
    "# average price of premium and non-premium computers in the whole data\n",
    "whole_data=df.groupby('premium')['price'].agg('mean')\n",
    "whole_data"
   ]
  },
  {
   "cell_type": "code",
   "execution_count": 35,
   "id": "9cd437c8-bf12-4b44-8188-931009f5fd0c",
   "metadata": {},
   "outputs": [
    {
     "data": {
      "text/plain": [
       "premium\n",
       "no     2409.131148\n",
       "yes    2199.466970\n",
       "Name: price, dtype: float64"
      ]
     },
     "execution_count": 35,
     "metadata": {},
     "output_type": "execute_result"
    }
   ],
   "source": [
    "# average price differ between premium and non-premium computers of sampled data using simple random sampling without replacement:\n",
    "sample_data=df.sample(n=500,replace=False,random_state=3).sort_index()\n",
    "grp=sample_data.groupby('premium')['price'].agg('mean')\n",
    "grp"
   ]
  },
  {
   "cell_type": "code",
   "execution_count": 45,
   "id": "276eb648-a1a9-4706-a68a-6982a5759199",
   "metadata": {},
   "outputs": [
    {
     "data": {
      "text/plain": [
       "price\n",
       "2361.934641    0.5\n",
       "2204.148397    0.5\n",
       "Name: proportion, dtype: float64"
      ]
     },
     "execution_count": 45,
     "metadata": {},
     "output_type": "execute_result"
    }
   ],
   "source": [
    "whole_data.value_counts(normalize=True)"
   ]
  },
  {
   "cell_type": "code",
   "execution_count": 43,
   "id": "a616a4c2-bf92-422f-b894-ad997b0377a0",
   "metadata": {},
   "outputs": [
    {
     "data": {
      "text/plain": [
       "price\n",
       "2409.131148    0.5\n",
       "2199.466970    0.5\n",
       "Name: proportion, dtype: float64"
      ]
     },
     "execution_count": 43,
     "metadata": {},
     "output_type": "execute_result"
    }
   ],
   "source": [
    "grp.value_counts(normalize=True)"
   ]
  },
  {
   "cell_type": "markdown",
   "id": "a1743376-5b73-498f-afa7-f217db9e6658",
   "metadata": {},
   "source": [
    "# d) Write your interpretation by comparing prices of premium and non-premium computers individually and prices of both categories together:"
   ]
  },
  {
   "cell_type": "markdown",
   "id": "97f6c413-37de-4cd4-92ab-09cb347a9f3b",
   "metadata": {},
   "source": [
    "# Interpretation:\n",
    "Using whole data the premium mean value is 2204.14 and for non-premiun the mean value is 2361.93\n",
    "Using 500 samples with simple random sampling without replacement the premium mean value is 2199.46 and for non-pemium is 2409.13.\n",
    "So I identified that 50% difference in the mean value of premium and non-premium computers while using the whole data and sampling data."
   ]
  },
  {
   "cell_type": "markdown",
   "id": "34c857a3-c27d-467f-8185-51b0c0f150bb",
   "metadata": {},
   "source": [
    "# Business Objective-3\n",
    "# Understanding Computers Price Trends through Distribution Analysis:"
   ]
  },
  {
   "cell_type": "markdown",
   "id": "195bae25-d073-4fd4-8d1f-631719655201",
   "metadata": {},
   "source": [
    "# Task-3\n",
    "# a) How does the distribution of sample means change for computer prices with different sample size:"
   ]
  },
  {
   "cell_type": "code",
   "execution_count": 47,
   "id": "5cd6f765-a2b3-4daf-b0ab-9154b95b1236",
   "metadata": {},
   "outputs": [
    {
     "data": {
      "image/png": "[encoded data removed]",
      "text/plain": [
       "<Figure size 1200x600 with 4 Axes>"
      ]
     },
     "metadata": {},
     "output_type": "display_data"
    }
   ],
   "source": [
    "pop_price=df['price']\n",
    "sam_price=[300,600,900,1000]\n",
    "num_sam=1000\n",
    "    \n",
    "# plot\n",
    "plt.figure(figsize=(12,6))\n",
    "# Iterate\n",
    "for i,n in enumerate(sam_price):\n",
    "    sam_means=[]\n",
    "    for _ in range(num_sam):\n",
    "        sample=pop_price.sample(n=n,replace=True)\n",
    "        sam_means.append(np.mean(sample))\n",
    "    plt.subplot(1,4,i+1)\n",
    "    plt.hist(sam_means,bins=30,density=True)\n",
    "    plt.title(f'Sample size {n}')\n",
    "    plt.xlabel('Sample means')\n",
    "    plt.ylabel('Frequency')\n",
    "    \n",
    "plt.tight_layout()\n",
    "plt.suptitle('Central Limit Theorem')\n",
    "plt.subplots_adjust(top=0.85)\n",
    "plt.show()"
   ]
  },
  {
   "cell_type": "markdown",
   "id": "9707f393-e2d7-4a9a-b62a-dcee151fd883",
   "metadata": {},
   "source": [
    "# Another Method using advanced histogram:"
   ]
  },
  {
   "cell_type": "code",
   "execution_count": 57,
   "id": "919c4cf6-3805-42ec-9850-a46e031108d4",
   "metadata": {},
   "outputs": [
    {
     "data": {
      "image/png": "[encoded data removed]",
      "text/plain": [
       "<Figure size 1200x600 with 4 Axes>"
      ]
     },
     "metadata": {},
     "output_type": "display_data"
    }
   ],
   "source": [
    "pop_price=df['price']\n",
    "sam_price=[200,400,600,800]\n",
    "num_sam=1000\n",
    "    \n",
    "# plot\n",
    "plt.figure(figsize=(12,6))\n",
    "# Iterate\n",
    "for i,n in enumerate(sam_price):\n",
    "    sam_means=[]\n",
    "    for _ in range(num_sam):\n",
    "        sample=pop_price.sample(n=n,replace=True)\n",
    "        sam_means.append(np.mean(sample))\n",
    "    plt.subplot(1,4,i+1)\n",
    "    sns.histplot(sam_means,kde=True,bins=30)\n",
    "    plt.title(f'Sample size {n}')\n",
    "    plt.xlabel('Sample means')\n",
    "    plt.ylabel('Frequency')\n",
    "    \n",
    "plt.tight_layout()\n",
    "plt.suptitle('Central Limit Theorem')\n",
    "plt.subplots_adjust(top=0.85)\n",
    "plt.show()"
   ]
  },
  {
   "cell_type": "markdown",
   "id": "bbbf881e-14ef-4d3e-9d44-a015b3608210",
   "metadata": {},
   "source": [
    "# b) Does the distribution of sample means approximate a normal distribution as sample size increases?\n",
    "Yes, as the sample size increases, the distribution of sample means approximates a normal distribution.When the mean is calculated for 1000 iterations\n",
    "with increasing sample sizes, the histograms display a bell-shaped curve, characteristic of a normal distribution.This shows in the \n",
    "sample sizes, such as 200,400,and 800."
   ]
  },
  {
   "cell_type": "markdown",
   "id": "2afebc40-c222-48b7-8133-7329b787cfa2",
   "metadata": {},
   "source": [
    "# c) Check if the properties of Central Limit Theorem for the samples is satisfied:\n",
    "Yes, the samples satisfy the properties of the Central Limit Theorem. The sample means approximate a normal distribution as the sample size increases,\n",
    "irrespective of the population's original distribution. This can be observed for sample sizes such as 200, 400, and 800, where the distribution of\n",
    "sample means shows a bell-shaped curve."
   ]
  },
  {
   "cell_type": "markdown",
   "id": "1d5ce0c5-cb7f-4d70-ad2f-66b3853119df",
   "metadata": {},
   "source": [
    "# Business Objective -4\n",
    "# Analysing Advertising Budjeting for Premium Computers by Identifying Budget Allocation:"
   ]
  },
  {
   "cell_type": "markdown",
   "id": "c4d2861a-b473-438e-961d-3ee57f535cdb",
   "metadata": {},
   "source": [
    "# Task-1"
   ]
  },
  {
   "cell_type": "code",
   "execution_count": null,
   "id": "6a7e4506-e117-43ce-95ae-822688bb904a",
   "metadata": {},
   "outputs": [],
   "source": [
    "H0=221.3\n",
    "Ha=222.2\n",
    "n=40\n",
    "alpha=0.05 #LOS\n",
    "LOC=95%\n",
    "pop_std=74.83\n",
    "# Tail type:\n",
    "Right tail (Increasing)\n",
    "# Statistical test type:\n",
    "Z-Test   #(Because sample size is >=30 , population mean and standard deviation is known)\n",
    "\n",
    "Ho:There is no significant difference in mean value of advertising budget is equal to 221.3\n",
    "Ha:There is significant difference in mean value of advertising budget it may increase > 221.3"
   ]
  },
  {
   "cell_type": "code",
   "execution_count": 22,
   "id": "e47dee72-2e6b-4263-9f35-406c0e60331e",
   "metadata": {},
   "outputs": [
    {
     "name": "stdout",
     "output_type": "stream",
     "text": [
      "2208.3\n"
     ]
    }
   ],
   "source": [
    "s40=df['price'].sample(n=40,random_state=6)\n",
    "s40_mean=np.mean(s40)\n",
    "print(s40_mean)"
   ]
  },
  {
   "cell_type": "code",
   "execution_count": 20,
   "id": "1a34d79e-88ca-4e5c-9b77-df9c0755a92c",
   "metadata": {},
   "outputs": [
    {
     "name": "stdout",
     "output_type": "stream",
     "text": [
      "Z-Statstical value=167.93921450633624\n",
      "Z-critical value=1.6448536269514722\n",
      "Probability value=0.0\n"
     ]
    }
   ],
   "source": [
    "# Given data:\n",
    "pop_mean=221.3\n",
    "pop_std=74.83\n",
    "alpha=0.05\n",
    "x_mean=2208.3\n",
    "n=40\n",
    "\n",
    "z_stat=(x_mean-pop_mean)/(pop_std/math.sqrt(n))\n",
    "z_crit=norm.ppf(1-alpha)\n",
    "p_val=norm.sf(abs(z_stat))\n",
    "print(f'Z-Statstical value={z_stat}\\nZ-critical value={z_crit}\\nProbability value={p_val}')"
   ]
  },
  {
   "cell_type": "markdown",
   "id": "6ccb7289-dbd7-44e9-a75b-b752b16517ac",
   "metadata": {},
   "source": [
    "# Reach the statistical conclusion:"
   ]
  },
  {
   "cell_type": "code",
   "execution_count": 25,
   "id": "5054f1e3-9b92-4f94-a225-7ad895bd5fb3",
   "metadata": {},
   "outputs": [
    {
     "name": "stdout",
     "output_type": "stream",
     "text": [
      "Reject Null Hypothesis\n"
     ]
    }
   ],
   "source": [
    "if z_stat<z_crit and p_val>alpha:\n",
    "    print('Accept Null Hypothesis')\n",
    "else:\n",
    "    print('Reject Null Hypothesis')"
   ]
  },
  {
   "cell_type": "markdown",
   "id": "d7dec6cc-ff08-453d-9759-98430c923e98",
   "metadata": {},
   "source": [
    "# Business Decision:\n",
    "There is significant difference in mean value of advertising budget it may increase > 221.3"
   ]
  },
  {
   "cell_type": "markdown",
   "id": "8b97cd93-3157-4ad8-b74e-afad6fafd82d",
   "metadata": {},
   "source": [
    "# Business Objective-5\n",
    "# Evaluate the Price Difference between Computers with and without CD Players:"
   ]
  },
  {
   "cell_type": "markdown",
   "id": "8bd67a6b-7e73-4479-bb34-8a9e6576c572",
   "metadata": {},
   "source": [
    "# Task-2\n",
    "# Is there a statistically significant difference in average price of computers with CD player and computers without CD players?\n",
    "# Use 5% significant level for the test:"
   ]
  },
  {
   "cell_type": "code",
   "execution_count": 67,
   "id": "98c07fe0-1a86-4c90-9189-27123218196a",
   "metadata": {},
   "outputs": [
    {
     "data": {
      "text/html": [
       "<div>\n",
       "<style scoped>\n",
       "    .dataframe tbody tr th:only-of-type {\n",
       "        vertical-align: middle;\n",
       "    }\n",
       "\n",
       "    .dataframe tbody tr th {\n",
       "        vertical-align: top;\n",
       "    }\n",
       "\n",
       "    .dataframe thead tr th {\n",
       "        text-align: left;\n",
       "    }\n",
       "\n",
       "    .dataframe thead tr:last-of-type th {\n",
       "        text-align: right;\n",
       "    }\n",
       "</style>\n",
       "<table border=\"1\" class=\"dataframe\">\n",
       "  <thead>\n",
       "    <tr>\n",
       "      <th></th>\n",
       "      <th>mean</th>\n",
       "    </tr>\n",
       "    <tr>\n",
       "      <th></th>\n",
       "      <th>price</th>\n",
       "    </tr>\n",
       "    <tr>\n",
       "      <th>cd</th>\n",
       "      <th></th>\n",
       "    </tr>\n",
       "  </thead>\n",
       "  <tbody>\n",
       "    <tr>\n",
       "      <th>no</th>\n",
       "      <td>2112.811996</td>\n",
       "    </tr>\n",
       "    <tr>\n",
       "      <th>yes</th>\n",
       "      <td>2342.605571</td>\n",
       "    </tr>\n",
       "  </tbody>\n",
       "</table>\n",
       "</div>"
      ],
      "text/plain": [
       "            mean\n",
       "           price\n",
       "cd              \n",
       "no   2112.811996\n",
       "yes  2342.605571"
      ]
     },
     "execution_count": 67,
     "metadata": {},
     "output_type": "execute_result"
    }
   ],
   "source": [
    "pvt=pd.pivot_table(df,index=['cd'],values=['price'],aggfunc=['mean'])\n",
    "pvt"
   ]
  },
  {
   "cell_type": "code",
   "execution_count": 104,
   "id": "9928caa2-ab0d-43a4-9d4d-727f4e892ad9",
   "metadata": {},
   "outputs": [
    {
     "name": "stdout",
     "output_type": "stream",
     "text": [
      "========================Sample Mean=================\n",
      "Sample mean of 50 samples with CD player= 2140.3\n",
      "Sample mean of 50 samples without CD player= 2132.45\n",
      "========================Standard deviation=================\n",
      "Standard deviation for yes= 527.447791950526 \n",
      "Standard deviation for no= 603.4942370862724\n",
      "========================Critical,statistical and probability value=================\n",
      "T-Statstical value=0.0443731446479174\n",
      "T-critical value=2.0226909200367604\n",
      "Probability value=0.9648333917785479\n",
      "========================Statistical Decision=================\n",
      "Accept Null Hypothesis\n"
     ]
    }
   ],
   "source": [
    "n1=20\n",
    "n2=20\n",
    "alpha=0.05\n",
    "dof=n1+n2-1\n",
    "print('========================Sample Mean=================')\n",
    "# sample mean:\n",
    "sam_mean_yes=df[df['cd']=='yes']['price'].sample(n=20,random_state=7)\n",
    "mean1=sam_mean_yes.mean()\n",
    "print('Sample mean of 50 samples with CD player=',mean1)\n",
    "\n",
    "sam_mean_no=df[df['cd']=='no']['price'].sample(n=20,random_state=10)\n",
    "mean2=sam_mean_no.mean()\n",
    "print('Sample mean of 50 samples without CD player=',mean2)\n",
    "print('========================Standard deviation=================')\n",
    "# Standard deviation:\n",
    "std_yes=df[df['cd']=='yes']['price'].std()\n",
    "std_no=df[df['cd']=='no']['price'].std()\n",
    "print('Standard deviation for yes=',std_yes,'\\nStandard deviation for no=',std_no)\n",
    "print('========================Critical,statistical and probability value=================')\n",
    "# T-statistical value:\n",
    "n=(mean1-mean2)\n",
    "d=math.sqrt((std_yes**2*(n1-1)+std_no**2*(n2-1))/dof)*(math.sqrt(1/n1+1/n2))\n",
    "T_stat=n/d\n",
    "\n",
    "# T-critical value:\n",
    "T_crit=t.ppf((1-alpha/2),dof)\n",
    "p_val=2*t.sf(abs(T_stat),dof)\n",
    "print(f'T-Statstical value={T_stat}\\nT-critical value={T_crit}\\nProbability value={p_val}')\n",
    "\n",
    "print('========================Statistical Decision=================')\n",
    "#Statistical Decision:\n",
    "if T_stat<T_crit and p_val>alpha:\n",
    "    print('Accept Null Hypothesis')\n",
    "else:\n",
    "    print('Reject Null Hypothesis')"
   ]
  },
  {
   "cell_type": "markdown",
   "id": "5dc9e42b-d712-4869-be00-e715d022d886",
   "metadata": {},
   "source": [
    "# Business Decision:\n",
    "There is no significant difference in the average price of the mean value is equal 2112.81 or 2342.60."
   ]
  },
  {
   "cell_type": "markdown",
   "id": "8f1956da-1262-44b5-b019-94bfa123d67f",
   "metadata": {},
   "source": [
    "# Business Objective-6\n",
    "# Analyse Premium Computer Pricing Strategy"
   ]
  },
  {
   "cell_type": "markdown",
   "id": "153ee6bb-58dc-4809-bfe9-9cb59a3dc64e",
   "metadata": {},
   "source": [
    "# Task-3\n",
    "# a) Identify price discrepency for premium computers:\n",
    "# Determine if the mean prices of computers differs significantly from $2200?\n",
    "# To examine this select 25 samples of premium computers randomly from the data.Assume the data is normally distributed in the population\n",
    "# Use 5% Level of significance to test hypothesis"
   ]
  },
  {
   "cell_type": "code",
   "execution_count": 116,
   "id": "4cc17016-2be1-4ba6-8f57-59375f9edef6",
   "metadata": {},
   "outputs": [
    {
     "name": "stdout",
     "output_type": "stream",
     "text": [
      "Sample mean= 2328.36\n"
     ]
    }
   ],
   "source": [
    "# Test type:\n",
    "# T-Test\n",
    "# Tail type:\n",
    "# Two tail\n",
    "\n",
    "# Sample mean calculation:\n",
    "s25_premium=df[df['premium']=='yes'].sample(n=25,random_state=11)\n",
    "price=s25_premium.price\n",
    "mean_s25_pre=np.mean(price)\n",
    "print('Sample mean=',mean_s25_pre)"
   ]
  },
  {
   "cell_type": "code",
   "execution_count": 128,
   "id": "d163918d-e5e4-48a7-bdc7-e273ca28b09b",
   "metadata": {},
   "outputs": [
    {
     "name": "stdout",
     "output_type": "stream",
     "text": [
      "Sample Standard deviation= 685.2203663056141\n"
     ]
    }
   ],
   "source": [
    "price=s25_premium.price\n",
    "std_pop=np.std(price)\n",
    "print('Sample Standard deviation=',std_pop)"
   ]
  },
  {
   "cell_type": "code",
   "execution_count": 143,
   "id": "4402bb3d-5a46-4027-b970-e6b8e892928e",
   "metadata": {},
   "outputs": [
    {
     "name": "stdout",
     "output_type": "stream",
     "text": [
      "===================Critical,statistical and probability value===================\n",
      "T-Statstical value=0.9366334899740238\n",
      "T-critical value=2.0638985616280205\n",
      "Probability value=0.3582773088222706\n",
      "===================Statistical Decision===================\n",
      "Accept Null Hypothesis\n"
     ]
    }
   ],
   "source": [
    "alpha=0.05\n",
    "pop_mean=2200\n",
    "sam_mean=2328.36\n",
    "sam_std=685.22\n",
    "n=25\n",
    "dof1=n-1\n",
    "\n",
    "print('===================Critical,statistical and probability value===================')\n",
    "# Caluculation of Critical and probability values:\n",
    "T_stat=(sam_mean-pop_mean)/(sam_std/math.sqrt(n))\n",
    "T_crit=t.ppf(1-alpha/2,dof1)\n",
    "p_val=2*t.sf(abs(T_stat),dof1)\n",
    "print(f'T-Statstical value={T_stat}\\nT-critical value={T_crit}\\nProbability value={p_val}')\n",
    "\n",
    "print('===================Statistical Decision===================')\n",
    "# Statistical Decision:\n",
    "if (T_stat<T_crit) and (p_val>alpha):\n",
    "    print('Accept Null Hypothesis')\n",
    "else:\n",
    "    print('Reject Null Hypothesis')"
   ]
  },
  {
   "cell_type": "markdown",
   "id": "c1c2179c-0c7c-43eb-abc6-f39a702534eb",
   "metadata": {},
   "source": [
    "# Interpretation: \n",
    "There is no statistical difference in the mean value of premium computers that is 2200.Sample mean was not significantly different from $2200 at\n",
    "the 5% significance level."
   ]
  },
  {
   "cell_type": "markdown",
   "id": "82894b36-fd83-4f94-9dcf-7e5ebf21a9a1",
   "metadata": {},
   "source": [
    "# Task-3(cont'd)\n",
    "# Analyse price disparity between premium and non-premium computers:\n",
    "# Is there a significant difference in the mean price of premium and non-premium computers?\n",
    "# Assume that the price are normally distributed and that the population variance are approximately equal.Use 5% significance level to test hypothesis:"
   ]
  },
  {
   "cell_type": "code",
   "execution_count": 146,
   "id": "8c7caf60-e986-4e5a-b8b0-ea87825d45aa",
   "metadata": {},
   "outputs": [
    {
     "data": {
      "text/plain": [
       "premium\n",
       "no     2361.934641\n",
       "yes    2204.148397\n",
       "Name: price, dtype: float64"
      ]
     },
     "execution_count": 146,
     "metadata": {},
     "output_type": "execute_result"
    }
   ],
   "source": [
    "# T-test with 2 sample:\n",
    "# Tail type:\n",
    "#Two tail\n",
    "\n",
    "\n",
    "# Null hypothesis:\n",
    "pre_pop=df.groupby('premium')['price'].agg('mean')\n",
    "pre_pop"
   ]
  },
  {
   "cell_type": "code",
   "execution_count": 148,
   "id": "610e3644-061b-4d0d-8d5b-5d9ef774102a",
   "metadata": {},
   "outputs": [
    {
     "data": {
      "text/plain": [
       "premium\n",
       "no     652.371260\n",
       "yes    570.444906\n",
       "Name: price, dtype: float64"
      ]
     },
     "execution_count": 148,
     "metadata": {},
     "output_type": "execute_result"
    }
   ],
   "source": [
    "# Alternate hypothesis:\n",
    "pre_pop_std=df.groupby('premium')['price'].agg('std')\n",
    "pre_pop_std"
   ]
  },
  {
   "cell_type": "code",
   "execution_count": 160,
   "id": "171077f8-25d7-4d97-975c-6776cb9c03f6",
   "metadata": {},
   "outputs": [
    {
     "name": "stdout",
     "output_type": "stream",
     "text": [
      "T_stat: -0.5757153488262632 T_crit 2.10092204024096 P_value 0.5719357766956059\n",
      "Accept Null Hypothesis\n"
     ]
    }
   ],
   "source": [
    "premium_pop_mean=2204.15\n",
    "nonpremium_pop_mean=2361.92\n",
    "premium_pop_std=570.44\n",
    "nonpremium_pop_std=652.37\n",
    "n1=10\n",
    "n2=10\n",
    "df=n1+n2-2\n",
    "alpha=0.05\n",
    "\n",
    "\n",
    "# Statistical calculation:\n",
    "# T-stat:\n",
    "\n",
    "n=(premium_pop_mean-nonpremium_pop_mean)\n",
    "d=math.sqrt((premium_pop_std**2*(n1-1)+nonpremium_pop_std**2*(n2-1))/df)*(math.sqrt(1/n1+1/n2))\n",
    "\n",
    "T_stat=n/d\n",
    "T_crit=t.ppf((1-alpha/2),df)\n",
    "p_val=2*t.sf(abs(T_stat),df)\n",
    "\n",
    "print('T_stat:',T_stat,'T_crit',T_crit,'P_value',p_val)\n",
    "\n",
    "\n",
    "# Business Decision:\n",
    "if T_stat<T_crit and p_val>alpha:\n",
    "    print('Accept Null Hypothesis')\n",
    "else:\n",
    "    print('Reject Null Hypothesis')"
   ]
  },
  {
   "cell_type": "markdown",
   "id": "53df7fd6-6517-4044-b7f7-2cf755600761",
   "metadata": {},
   "source": [
    "# Interpretation:\n",
    "There is no significant difference in premium and non-premium computers of mean value.It may equal to 2204.15 and 2361.92."
   ]
  }
 ],
 "metadata": {
  "kernelspec": {
   "display_name": "Python 3 (ipykernel)",
   "language": "python",
   "name": "python3"
  },
  "language_info": {
   "codemirror_mode": {
    "name": "ipython",
    "version": 3
   },
   "file_extension": ".py",
   "mimetype": "text/x-python",
   "name": "python",
   "nbconvert_exporter": "python",
   "pygments_lexer": "ipython3",
   "version": "3.12.4"
  }
 },
 "nbformat": 4,
 "nbformat_minor": 5
}
